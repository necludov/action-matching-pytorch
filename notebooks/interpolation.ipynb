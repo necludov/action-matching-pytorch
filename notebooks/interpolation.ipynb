{
 "cells": [
  {
   "cell_type": "code",
   "execution_count": 1,
   "id": "66aa01d1",
   "metadata": {},
   "outputs": [
    {
     "name": "stdout",
     "output_type": "stream",
     "text": [
      "%pylab is deprecated, use %matplotlib inline and import the required libraries.\n",
      "Populating the interactive namespace from numpy and matplotlib\n"
     ]
    }
   ],
   "source": [
    "%pylab inline"
   ]
  },
  {
   "cell_type": "code",
   "execution_count": 2,
   "id": "27b01c7b",
   "metadata": {},
   "outputs": [],
   "source": [
    "import scipy.interpolate"
   ]
  },
  {
   "cell_type": "code",
   "execution_count": 3,
   "id": "f5708f45",
   "metadata": {},
   "outputs": [],
   "source": [
    "n=10\n",
    "t = np.linspace(0,1,n)\n",
    "dt = (1-0)/(n-1)\n",
    "w = (t-0.5)**2\n",
    "w = w/(w.sum()*dt - w[0]*dt/2 - w[-1]*dt/2)\n",
    "f = scipy.interpolate.interp1d(t, w, kind='nearest')\n",
    "square = np.concatenate([np.zeros([1]), w[:1]*dt/2, w[0]*dt/2 + w[1:-1].cumsum()*dt, np.ones([1])])\n",
    "grid = np.concatenate([np.zeros([1]), t[:-1] + dt/2, np.ones([1])])\n",
    "F_inv = scipy.interpolate.interp1d(square, grid, kind='linear')"
   ]
  },
  {
   "cell_type": "code",
   "execution_count": 27,
   "id": "aeafa9e8",
   "metadata": {},
   "outputs": [],
   "source": [
    "n=50\n",
    "t0, t1 = 0.1, 0.9\n",
    "\n",
    "t = np.linspace(t0,t1,n)\n",
    "dt = (t1-t0)/(n-1)\n",
    "p = (t-0.5)**2\n",
    "p = p/((p[1:]+p[:-1])*dt/2).sum()\n",
    "fp = scipy.interpolate.interp1d(t, p, kind='linear')\n",
    "dpdt = scipy.interpolate.interp1d(t, np.concatenate([p[1:]-p[:-1], p[-1:]-p[-2:-1]])/dt, kind='zero')\n",
    "intercept = lambda t: fp(t)-dpdt(t)*t\n",
    "t0_interval = scipy.interpolate.interp1d(t, t, kind='zero')\n",
    "mass = np.concatenate([np.zeros([1]), ((p[1:]+p[:-1])*dt/2).cumsum()[:-1], np.ones([1])])\n",
    "F0_interval = scipy.interpolate.interp1d(t, mass, kind='zero')\n",
    "F0_inv = scipy.interpolate.interp1d(mass, t, kind='zero')\n",
    "def F(t):\n",
    "    t0_ = t0_interval(t)\n",
    "    F0_ = F0_interval(t)\n",
    "    k, b = dpdt(t), intercept(t)\n",
    "    output = 0.5*k*(t**2-t0_**2) + b*(t-t0_)\n",
    "    return F0_ + output \n",
    "\n",
    "def F_inv(y):\n",
    "    t0_ = F0_inv(y)\n",
    "    F0_ = F0_interval(t0_)\n",
    "    k, b = dpdt(t0_), intercept(t0_)\n",
    "    c = y - F0_\n",
    "    c = c + 0.5*k*t0_**2 + b*t0_\n",
    "    D = np.sqrt(b**2 + 2*k*c)\n",
    "    output = (-b + D) * (np.abs(k) > 0)  + c/b * (np.abs(k) == 0.0)\n",
    "    output[np.abs(k) > 0] /= k[np.abs(k) > 0]\n",
    "    return output"
   ]
  },
  {
   "cell_type": "code",
   "execution_count": 30,
   "id": "471da364",
   "metadata": {},
   "outputs": [
    {
     "data": {
      "image/png": "[encoded data removed]",
      "text/plain": [
       "<Figure size 432x288 with 1 Axes>"
      ]
     },
     "metadata": {
      "needs_background": "light"
     },
     "output_type": "display_data"
    }
   ],
   "source": [
    "u = np.sqrt(2)*np.arange(12000) % 1\n",
    "\n",
    "plt.plot(np.linspace(t0,t1,1000), fp(np.linspace(t0,t1,1000)))\n",
    "plt.plot(np.linspace(t0,t1,1000), F0_inv(np.linspace(t0,t1,1000)))\n",
    "plt.hist(F_inv(u), density=True, bins=100)\n",
    "plt.scatter(t, p)\n",
    "plt.grid()"
   ]
  },
  {
   "cell_type": "code",
   "execution_count": 31,
   "id": "afb5c75a",
   "metadata": {},
   "outputs": [
    {
     "data": {
      "text/plain": [
       "(array([0.]), array([1.]))"
      ]
     },
     "execution_count": 31,
     "metadata": {},
     "output_type": "execute_result"
    }
   ],
   "source": [
    "F(np.array([t0])), F(np.array([t1]))"
   ]
  },
  {
   "cell_type": "code",
   "execution_count": 32,
   "id": "343e3a7c",
   "metadata": {},
   "outputs": [
    {
     "data": {
      "text/plain": [
       "(array([0.1]), array([0.9]))"
      ]
     },
     "execution_count": 32,
     "metadata": {},
     "output_type": "execute_result"
    }
   ],
   "source": [
    "F_inv(np.array([0.0])), F_inv(np.array([1.0]))"
   ]
  },
  {
   "cell_type": "code",
   "execution_count": null,
   "id": "f8386d49",
   "metadata": {},
   "outputs": [],
   "source": []
  }
 ],
 "metadata": {
  "kernelspec": {
   "display_name": "Python 3 (ipykernel)",
   "language": "python",
   "name": "python3"
  },
  "language_info": {
   "codemirror_mode": {
    "name": "ipython",
    "version": 3
   },
   "file_extension": ".py",
   "mimetype": "text/x-python",
   "name": "python",
   "nbconvert_exporter": "python",
   "pygments_lexer": "ipython3",
   "version": "3.9.12"
  }
 },
 "nbformat": 4,
 "nbformat_minor": 5
}
